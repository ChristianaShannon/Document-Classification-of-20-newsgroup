{
 "cells": [
  {
   "cell_type": "code",
   "execution_count": 1,
   "metadata": {
    "collapsed": true
   },
   "outputs": [],
   "source": [
    "from sklearn.feature_extraction.text import TfidfTransformer\n",
    "\n",
    "from sklearn.model_selection import GridSearchCV\n",
    "\n",
    "\n",
    "from urllib.request import urlretrieve\n",
    "import os\n",
    "import numpy as np\n",
    "\n",
    "import matplotlib.pyplot as plt\n",
    "%matplotlib inline"
   ]
  },
  {
   "cell_type": "code",
   "execution_count": 2,
   "metadata": {
    "collapsed": true
   },
   "outputs": [],
   "source": [
    "def data_download(url, filename):\n",
    "    \n",
    "    #os.chdir('datasets/')\n",
    "    if not os.path.exists(filename):\n",
    "        filename,_ = urlretrieve(url+filename,filename)\n",
    "    else:\n",
    "        if filename == 'text8.zip':\n",
    "            statinfo = os.stat(filename)\n",
    "            print(\"{} has already existed,file size are {}\".format(filename, statinfo.st_size))\n",
    "        elif filename == '20news-bydate.tar.gz':\n",
    "            statinfo = os.stat(filename)\n",
    "            print(\"{} has already existed,file size are {}\".format(filename, statinfo.st_size))\n",
    "        else:\n",
    "            raise Exception(\"Please check your origin dataset.\")\n",
    "    return filename"
   ]
  },
  {
   "cell_type": "code",
   "execution_count": 3,
   "metadata": {},
   "outputs": [
    {
     "name": "stdout",
     "output_type": "stream",
     "text": [
      "20news-bydate.tar.gz has already existed,file size are 14464277\n",
      "text8.zip has already existed,file size are 31344016\n"
     ]
    }
   ],
   "source": [
    "news = data_download('http://www.qwone.com/~jason/20Newsgroups/', '20news-bydate.tar.gz')\n",
    "text8 = data_download('http://mattmahoney.net/dc/', 'text8.zip')"
   ]
  },
  {
   "cell_type": "code",
   "execution_count": 4,
   "metadata": {
    "collapsed": true
   },
   "outputs": [],
   "source": [
    "from sklearn.datasets import load_files\n",
    "import codecs\n",
    "import pickle\n",
    "import sys\n",
    "import tarfile\n",
    "\n",
    "CACHE_NAME = \"20news-bydate.pkz\"\n",
    "TRAIN_FOLDER = \"20news-bydate-train\"\n",
    "TEST_FOLDER = \"20news-bydate-test\"\n",
    "\n",
    "def load_categories(fpath):\n",
    "    with tarfile.open(fpath) as tar:\n",
    "        tar.extractall()\n",
    "        tar.close()\n",
    "        \n",
    "    cache = dict(train=load_files(TRAIN_FOLDER, encoding='latin1'),\n",
    "                 test=load_files(TEST_FOLDER, encoding='latin1'))\n",
    "    compressed_content = codecs.encode(pickle.dumps(cache), 'zlib_codec')\n",
    "    \n",
    "    cache_path = CACHE_NAME\n",
    "    with open(cache_path, 'wb') as f:\n",
    "        f.write(compressed_content)\n",
    "    #return cache\n",
    "        \n",
    "load_categories('20news-bydate.tar.gz')"
   ]
  },
  {
   "cell_type": "code",
   "execution_count": 5,
   "metadata": {
    "collapsed": true
   },
   "outputs": [],
   "source": [
    "from sklearn.utils import shuffle\n",
    "\n",
    "def read_categories(subset,random_state=42):\n",
    "\n",
    "     if os.path.getsize(CACHE_NAME):\n",
    "        try:\n",
    "            with open(CACHE_NAME, 'rb') as f:\n",
    "                compressed_content = f.read()\n",
    "            uncompressed_content = codecs.decode(\n",
    "                compressed_content, 'zlib_codec')\n",
    "            cache = pickle.loads(uncompressed_content)\n",
    "        except Exception as e:\n",
    "            print(80 * '_')\n",
    "            print('Cache loading failed')\n",
    "            print(80 * '_')\n",
    "            print(e) \n",
    "        data = cache[subset]\n",
    "        data.data, data.target = shuffle(data.data, data.target,random_state=random_state)\n",
    "        \n",
    "        return data"
   ]
  },
  {
   "cell_type": "code",
   "execution_count": 7,
   "metadata": {},
   "outputs": [
    {
     "name": "stdout",
     "output_type": "stream",
     "text": [
      "From: lerxst@wam.umd.edu (where's my thing)\n",
      "Subject: WHAT car is this!?\n",
      "Nntp-Posting-Host: rac3.wam.umd.edu\n",
      "Organization: University of Maryland, College Park\n",
      "Lines: 15\n",
      "\n",
      " I was wondering if anyone out there could enlighten me on this car I saw\n",
      "the other day. It was a 2-door sports car, looked to be from the late 60s/\n",
      "early 70s. It was called a Bricklin. The doors were really small. In addition,\n",
      "the front bumper was separate from the rest of the body. This is \n",
      "all I know. If anyone can tellme a model name, engine specs, years\n",
      "of production, where this car is made, history, or whatever info you\n",
      "have on this funky looking car, please e-mail.\n",
      "\n",
      "Thanks,\n",
      "- IL\n",
      "   ---- brought to you by your neighborhood Lerxst ----\n",
      "\n",
      "\n",
      "\n",
      "\n",
      "\n",
      "[ 7  4  4  1 14]\n"
     ]
    }
   ],
   "source": [
    "news_train = read_categories(subset='train')\n",
    "news_test = read_categories(subset='test')\n",
    "print(news_train.data[0])\n",
    "print(news_train.target[:5])"
   ]
  },
  {
   "cell_type": "markdown",
   "metadata": {},
   "source": [
    "观察20类新闻的分布情况，每种新闻的总数分别是多少"
   ]
  },
  {
   "cell_type": "code",
   "execution_count": 8,
   "metadata": {},
   "outputs": [
    {
     "name": "stdout",
     "output_type": "stream",
     "text": [
      "{0: 480, 1: 584, 2: 591, 3: 590, 4: 578, 5: 593, 6: 585, 7: 594, 8: 598, 9: 597, 10: 600, 11: 595, 12: 591, 13: 594, 14: 593, 15: 599, 16: 546, 17: 564, 18: 465, 19: 377}\n"
     ]
    },
    {
     "data": {
      "image/png": "[encoded data removed]",
      "text/plain": [
       "<matplotlib.figure.Figure at 0x191849022b0>"
      ]
     },
     "metadata": {},
     "output_type": "display_data"
    }
   ],
   "source": [
    "from collections import Counter\n",
    "\n",
    "def total_news_class(data):\n",
    "    news_category = dict(Counter(data))\n",
    "    print(news_category)\n",
    "\n",
    "    x_val = [val for val in news_category.keys()]\n",
    "    y_val = [news_category[x] for x in x_val]\n",
    "    plt.bar(left=x_val,height=y_val,width=0.5)\n",
    "    plt.xticks(x_val)\n",
    "    plt.title('news count by category')\n",
    "    plt.ylabel('nums per category')\n",
    "    plt.show()\n",
    "total_news_class(news_train.target)"
   ]
  },
  {
   "cell_type": "markdown",
   "metadata": {},
   "source": [
    "从图表中可知，20类新闻的数量大部分基本相同，均在550-600左右，仅有三组新闻数量偏少，分别为480，465，377，也属于可以接受的范围；"
   ]
  },
  {
   "cell_type": "markdown",
   "metadata": {},
   "source": [
    "\n",
    "\n",
    "## 清洗数据 ##\n",
    "- 去掉所有的单词符号；\n",
    "- #词干提取，将过去式，进行时态等单词转化为原词根,采用了nltk所附带的snowball模式\n",
    "- 在几个分类器上对比，发现词干提取并没有什么用，acc-score 反而降低，遂决定不做词干提取；\n",
    "- 将字母均转化为小写"
   ]
  },
  {
   "cell_type": "code",
   "execution_count": 9,
   "metadata": {},
   "outputs": [
    {
     "name": "stdout",
     "output_type": "stream",
     "text": [
      "from lerxst wam umd edu where s my thing subject what car is this nntp posting host rac3 wam umd edu organization university of maryland college park lines 15 i was wondering if anyone out there could enlighten me on this car i saw the other day it was a 2 door sports car looked to be from the late 60s early 70s it was called a bricklin the doors were really small in addition the front bumper was separate from the rest of the body this is all i know if anyone can tellme a model name engine specs years of production where this car is made history or whatever info you have on this funky looking car please e mail thanks il brought to you by your neighborhood lerxst\n"
     ]
    }
   ],
   "source": [
    "import re\n",
    "#import nltk\n",
    "#import nltk.stem  \n",
    "\n",
    "def preprocessor(text):\n",
    "    text = re.sub('[\\W]+', ' ', text.lower()) \n",
    "\n",
    "    #new_text =[]\n",
    "    #snowball = nltk.stem.SnowballStemmer('english')  \n",
    "    #text = [snowball.stem(word) for word in text.split()]\n",
    "    #text = ' '.join(text)\n",
    "\n",
    "    return text.strip()\n",
    "train_data=list(map(preprocessor,news_train.data))\n",
    "#test_data=list(map(preprocessor,news_test.data))\n",
    "print(train_data[0])"
   ]
  },
  {
   "cell_type": "markdown",
   "metadata": {},
   "source": [
    "- 文档探索\n",
    "    - 探索文档长度\n",
    "    - 探索所有文档中词频分布"
   ]
  },
  {
   "cell_type": "code",
   "execution_count": 10,
   "metadata": {},
   "outputs": [
    {
     "name": "stdout",
     "output_type": "stream",
     "text": [
      "[('the', 146532), ('to', 75064), ('of', 69034), ('a', 64195), ('ax', 62406), ('and', 57957), ('i', 53036), ('in', 49401), ('is', 43480), ('that', 39264)]\n",
      "The max length of document is 16197,the min length of document is 18, the median length is 191.0\n"
     ]
    }
   ],
   "source": [
    "total_word_class = Counter()\n",
    "d_length = []\n",
    "def count_doc(text):\n",
    "    for doc in text:\n",
    "        d_length.append(len(doc.split()))\n",
    "        for word in doc.split():\n",
    "            total_word_class[word] += 1\n",
    "    return d_length, total_word_class\n",
    "\n",
    "train_d_length, train_total_word_class = count_doc(train_data)\n",
    "print(train_total_word_class.most_common(10))\n",
    "print('The max length of document is {},the min length of document is {}, the median length is {}'\\\n",
    "    .format(np.max(d_length),np.min(d_length), np.median(d_length)))"
   ]
  },
  {
   "cell_type": "code",
   "execution_count": 11,
   "metadata": {},
   "outputs": [
    {
     "data": {
      "image/png": "[encoded data removed]",
      "text/plain": [
       "<matplotlib.figure.Figure at 0x1918211b4a8>"
      ]
     },
     "metadata": {},
     "output_type": "display_data"
    },
    {
     "data": {
      "image/png": "[encoded data removed]",
      "text/plain": [
       "<matplotlib.figure.Figure at 0x19185868588>"
      ]
     },
     "metadata": {},
     "output_type": "display_data"
    }
   ],
   "source": [
    "def count_frequency():\n",
    "    plt.hist(d_length, bins=range(100,2800,100), histtype=\"stepfilled\", alpha=.5)  \n",
    "    plt.xlabel('length of document')\n",
    "    plt.ylabel('frequency')\n",
    "    plt.title('the frequency distribution of document length')\n",
    "    plt.show()\n",
    "\n",
    "\n",
    "    x_val = [i[0] for i in train_total_word_class.most_common(20)]\n",
    "    y_val = [i[1] for i in train_total_word_class.most_common(20)]\n",
    "    plt.bar(left=range(20),height=y_val,width=0.5)\n",
    "    plt.xticks(range(20),x_val)\n",
    "    plt.title('most common words in doc')\n",
    "    plt.ylabel('frequency')\n",
    "    plt.show()\n",
    "    \n",
    "count_frequency()"
   ]
  },
  {
   "cell_type": "markdown",
   "metadata": {},
   "source": [
    "- 显然，观察可知，文档长度分布为一拖尾的偏态分布，但是拖尾数据量很少，绝大多数文档长度在0-2000 单词之间，文档最短长度18，最长长度16197，中位数长度191， 文档长度分布可近似看作正态分布，不再进行特征处理；\n",
    "\n",
    "- 文档中常见词分布：高频词为各类介词（the,of,to, in）及连词和助词（and, is, i, be）等，符合常见高频词分布，最高频词为('the', 146532)，没有异常的高频词，可使用常规停用词；"
   ]
  },
  {
   "cell_type": "markdown",
   "metadata": {},
   "source": [
    "## 加权词频TF-IDF向量 ##"
   ]
  },
  {
   "cell_type": "code",
   "execution_count": 14,
   "metadata": {
    "collapsed": true
   },
   "outputs": [],
   "source": [
    "from sklearn.feature_extraction.text import TfidfVectorizer\n",
    "from sklearn.metrics import accuracy_score, classification_report\n",
    "\n",
    "#vectorizer = TfidfVectorizer(preprocessor=preprocessor, stop_words='english', min_df=0.001)\n",
    "vectorizer = TfidfVectorizer(preprocessor=preprocessor, stop_words='english', min_df=0.002,max_df=0.6,use_idf=True)\n",
    "X_train = vectorizer.fit_transform(news_train.data)\n",
    "Y_train = news_train.target\n",
    "X_test = vectorizer.transform(news_test.data) \n",
    "Y_test = news_test.target"
   ]
  },
  {
   "cell_type": "code",
   "execution_count": 15,
   "metadata": {},
   "outputs": [
    {
     "name": "stdout",
     "output_type": "stream",
     "text": [
      "(11314, 7951)\n"
     ]
    }
   ],
   "source": [
    "print(X_train.shape)"
   ]
  },
  {
   "cell_type": "markdown",
   "metadata": {},
   "source": [
    "切分数据，划分出10%验证集用于调参"
   ]
  },
  {
   "cell_type": "code",
   "execution_count": 16,
   "metadata": {
    "collapsed": true
   },
   "outputs": [],
   "source": [
    "from sklearn import model_selection\n",
    "\n",
    "x_train, x_val, y_train, y_val = model_selection.train_test_split(X_train, Y_train, test_size=0.1, random_state=42)"
   ]
  },
  {
   "cell_type": "code",
   "execution_count": 17,
   "metadata": {
    "collapsed": true
   },
   "outputs": [],
   "source": [
    "#import sklearn.metrics\n",
    "\n",
    "def evalute_score(model, x, y):\n",
    "    predicted_y = model.predict(x)\n",
    "    print(model.__class__.__name__)\n",
    "    print('--------------------------------------------')\n",
    "    print(classification_report(y, predicted_y))\n",
    "    print('--------------------------------------------')\n",
    "    print(accuracy_score(y, predicted_y))"
   ]
  },
  {
   "cell_type": "markdown",
   "metadata": {},
   "source": [
    "#### 基准分类器 ####\n",
    "\n",
    "以决策树为基准分类器，以其在验证集/测试集得分为基准目标"
   ]
  },
  {
   "cell_type": "code",
   "execution_count": 18,
   "metadata": {},
   "outputs": [
    {
     "name": "stderr",
     "output_type": "stream",
     "text": [
      "D:\\ProgramData\\Anaconda3\\envs\\tensorflow\\lib\\site-packages\\sklearn\\cross_validation.py:41: DeprecationWarning: This module was deprecated in version 0.18 in favor of the model_selection module into which all the refactored classes and functions are moved. Also note that the interface of the new CV iterators are different from that of this module. This module will be removed in 0.20.\n",
      "  \"This module will be removed in 0.20.\", DeprecationWarning)\n"
     ]
    },
    {
     "name": "stdout",
     "output_type": "stream",
     "text": [
      "DecisionTreeClassifier\n",
      "--------------------------------------------\n",
      "             precision    recall  f1-score   support\n",
      "\n",
      "          0       0.71      0.72      0.72        47\n",
      "          1       0.43      0.50      0.46        46\n",
      "          2       0.60      0.56      0.58        54\n",
      "          3       0.43      0.50      0.46        62\n",
      "          4       0.82      0.67      0.74        67\n",
      "          5       0.59      0.55      0.57        55\n",
      "          6       0.61      0.70      0.65        60\n",
      "          7       0.76      0.66      0.71        64\n",
      "          8       0.80      0.79      0.80        52\n",
      "          9       0.60      0.80      0.69        55\n",
      "         10       0.87      0.74      0.80        53\n",
      "         11       0.80      0.90      0.85        52\n",
      "         12       0.53      0.51      0.52        65\n",
      "         13       0.69      0.80      0.74        59\n",
      "         14       0.71      0.66      0.69        68\n",
      "         15       0.73      0.73      0.73        52\n",
      "         16       0.78      0.80      0.79        61\n",
      "         17       0.80      0.80      0.80        59\n",
      "         18       0.80      0.62      0.70        63\n",
      "         19       0.44      0.39      0.42        38\n",
      "\n",
      "avg / total       0.68      0.67      0.67      1132\n",
      "\n",
      "--------------------------------------------\n",
      "0.672261484099\n"
     ]
    }
   ],
   "source": [
    "from sklearn.tree import DecisionTreeClassifier\n",
    "from sklearn.svm import SVC, LinearSVC\n",
    "from sklearn.naive_bayes import MultinomialNB\n",
    "from xgboost.sklearn import XGBClassifier\n",
    "\n",
    "tree_model = DecisionTreeClassifier(random_state=10)\n",
    "tree_model.fit(x_train, y_train)\n",
    "\n",
    "evalute_score(tree_model, x_val, y_val)"
   ]
  },
  {
   "cell_type": "code",
   "execution_count": 19,
   "metadata": {},
   "outputs": [
    {
     "name": "stdout",
     "output_type": "stream",
     "text": [
      "MultinomialNB\n",
      "--------------------------------------------\n",
      "             precision    recall  f1-score   support\n",
      "\n",
      "          0       0.89      0.87      0.88        47\n",
      "          1       0.70      0.80      0.75        46\n",
      "          2       0.85      0.87      0.86        54\n",
      "          3       0.70      0.77      0.73        62\n",
      "          4       0.94      0.90      0.92        67\n",
      "          5       0.79      0.87      0.83        55\n",
      "          6       0.82      0.85      0.84        60\n",
      "          7       0.92      0.92      0.92        64\n",
      "          8       0.96      0.92      0.94        52\n",
      "          9       0.98      0.98      0.98        55\n",
      "         10       0.93      0.98      0.95        53\n",
      "         11       1.00      0.96      0.98        52\n",
      "         12       0.91      0.80      0.85        65\n",
      "         13       0.95      0.93      0.94        59\n",
      "         14       0.95      0.93      0.94        68\n",
      "         15       0.72      0.96      0.83        52\n",
      "         16       0.85      0.98      0.91        61\n",
      "         17       0.93      0.95      0.94        59\n",
      "         18       0.98      0.81      0.89        63\n",
      "         19       1.00      0.37      0.54        38\n",
      "\n",
      "avg / total       0.89      0.88      0.88      1132\n",
      "\n",
      "--------------------------------------------\n",
      "0.879858657244\n",
      "LinearSVC\n",
      "--------------------------------------------\n",
      "             precision    recall  f1-score   support\n",
      "\n",
      "          0       0.93      0.91      0.92        47\n",
      "          1       0.70      0.85      0.76        46\n",
      "          2       0.92      0.89      0.91        54\n",
      "          3       0.74      0.73      0.73        62\n",
      "          4       0.93      0.85      0.89        67\n",
      "          5       0.90      0.82      0.86        55\n",
      "          6       0.78      0.83      0.81        60\n",
      "          7       0.92      0.94      0.93        64\n",
      "          8       0.91      0.92      0.91        52\n",
      "          9       0.98      1.00      0.99        55\n",
      "         10       0.96      0.98      0.97        53\n",
      "         11       1.00      0.98      0.99        52\n",
      "         12       0.86      0.85      0.85        65\n",
      "         13       0.92      0.93      0.92        59\n",
      "         14       0.97      0.94      0.96        68\n",
      "         15       0.87      0.92      0.90        52\n",
      "         16       0.92      0.97      0.94        61\n",
      "         17       0.92      0.98      0.95        59\n",
      "         18       0.95      0.90      0.93        63\n",
      "         19       0.81      0.66      0.72        38\n",
      "\n",
      "avg / total       0.90      0.90      0.90      1132\n",
      "\n",
      "--------------------------------------------\n",
      "0.895759717314\n",
      "XGBClassifier\n",
      "--------------------------------------------\n",
      "             precision    recall  f1-score   support\n",
      "\n",
      "          0       0.92      0.74      0.82        47\n",
      "          1       0.64      0.78      0.71        46\n",
      "          2       0.75      0.76      0.75        54\n",
      "          3       0.57      0.63      0.60        62\n",
      "          4       0.88      0.76      0.82        67\n",
      "          5       0.88      0.78      0.83        55\n",
      "          6       0.75      0.77      0.76        60\n",
      "          7       0.86      0.88      0.87        64\n",
      "          8       0.94      0.88      0.91        52\n",
      "          9       0.88      0.91      0.89        55\n",
      "         10       0.92      0.87      0.89        53\n",
      "         11       1.00      0.96      0.98        52\n",
      "         12       0.54      0.75      0.63        65\n",
      "         13       0.85      0.88      0.87        59\n",
      "         14       0.93      0.79      0.86        68\n",
      "         15       0.79      0.88      0.84        52\n",
      "         16       0.90      0.93      0.92        61\n",
      "         17       0.95      0.88      0.91        59\n",
      "         18       0.85      0.79      0.82        63\n",
      "         19       0.74      0.61      0.67        38\n",
      "\n",
      "avg / total       0.83      0.81      0.82      1132\n",
      "\n",
      "--------------------------------------------\n",
      "0.814487632509\n"
     ]
    }
   ],
   "source": [
    "nb_model = MultinomialNB()\n",
    "nb_model.fit(x_train, y_train)\n",
    "\n",
    "svc_model = LinearSVC(random_state=10)\n",
    "svc_model.fit(x_train,y_train)\n",
    "\n",
    "xgb_model = XGBClassifier(seed=10)\n",
    "xgb_model.fit(x_train,y_train)\n",
    "\n",
    "models = [nb_model,svc_model,xgb_model]\n",
    "for model in models:\n",
    "    evalute_score(model, x_val, y_val)"
   ]
  },
  {
   "cell_type": "code",
   "execution_count": 20,
   "metadata": {},
   "outputs": [
    {
     "name": "stdout",
     "output_type": "stream",
     "text": [
      "(10182, 7951)\n",
      "(10182,)\n"
     ]
    }
   ],
   "source": [
    "print(x_train.shape)\n",
    "print(y_train.shape)"
   ]
  },
  {
   "cell_type": "markdown",
   "metadata": {
    "collapsed": true
   },
   "source": [
    "#### 模型调优 ####\n",
    "\n",
    "对贝叶斯，主要调节平滑参数alpah；"
   ]
  },
  {
   "cell_type": "code",
   "execution_count": 21,
   "metadata": {
    "collapsed": true
   },
   "outputs": [],
   "source": [
    "from sklearn.model_selection import GridSearchCV,KFold\n",
    "\n",
    "parameters = {'alpha':[round(0.005*i, 3) for i in range(1, 180, 9)]}\n",
    "kfold= KFold(n_splits=5,random_state=10)\n",
    "\n",
    "nb_grid_obj = GridSearchCV(nb_model,parameters,cv=kfold)\n",
    "nb_grid_obj.fit(x_train,y_train)\n",
    "\n",
    "nb_best_param = nb_grid_obj.best_params_\n",
    "best_nb = nb_grid_obj.best_estimator_"
   ]
  },
  {
   "cell_type": "markdown",
   "metadata": {},
   "source": [
    "对LinearSVC， 主要调节C值，tol值，max_iter值："
   ]
  },
  {
   "cell_type": "code",
   "execution_count": 22,
   "metadata": {
    "collapsed": true
   },
   "outputs": [],
   "source": [
    "C = [0.1,0.5,0.9,1.3,1.7]\n",
    "tol = [1e-3, 1e-2, 0.1]\n",
    "max_iter = [1e3, 5e3, 1e4]\n",
    "parameters = {'C': C, 'tol': tol, 'max_iter':max_iter}\n",
    "kfold= KFold(n_splits=5,random_state=10)\n",
    "\n",
    "svc_grid_obj = GridSearchCV(svc_model,parameters,cv=kfold)\n",
    "svc_grid_obj.fit(x_train,y_train)\n",
    "\n",
    "svc_best_param = svc_grid_obj.best_params_\n",
    "best_svc = svc_grid_obj.best_estimator_"
   ]
  },
  {
   "cell_type": "markdown",
   "metadata": {},
   "source": [
    "对Xgb，主要有learning_rate，max_depth，n_estimators，gamma参数进行优化，这里选取了学习率进行优化"
   ]
  },
  {
   "cell_type": "code",
   "execution_count": 23,
   "metadata": {
    "collapsed": true
   },
   "outputs": [],
   "source": [
    "from sklearn.model_selection import GridSearchCV,KFold\n",
    "#n_estimators = [n for n in range(50,211, 40)]\n",
    "#max_depth = [n for n in range(3,9)]\n",
    "learning_rate = [0.001, 0.01, 0.1]\n",
    "\n",
    "parameters = {'learning_rate': learning_rate}\n",
    "kfold= KFold(n_splits=5,random_state=10)\n",
    "\n",
    "xgb_grid_obj = GridSearchCV(xgb_model,parameters,cv=kfold)\n",
    "\n",
    "xgb_grid_obj.fit(x_train,y_train)\n",
    "\n",
    "xgb_best_param = xgb_grid_obj.best_params_\n",
    "best_xgb = xgb_grid_obj.best_estimator_"
   ]
  },
  {
   "cell_type": "code",
   "execution_count": 26,
   "metadata": {},
   "outputs": [
    {
     "name": "stdout",
     "output_type": "stream",
     "text": [
      "Best param for MultinomialNB model {'alpha': 0.05}:\n",
      "Best param for LinearSVC model: {'max_iter': 1000.0, 'tol': 0.001, 'C': 0.9}\n",
      "Best param for Xgboost model:{'learning_rate': 0.1}\n",
      "MultinomialNB\n",
      "--------------------------------------------\n",
      "             precision    recall  f1-score   support\n",
      "\n",
      "          0       0.90      0.94      0.92        47\n",
      "          1       0.73      0.87      0.79        46\n",
      "          2       0.84      0.80      0.82        54\n",
      "          3       0.74      0.79      0.77        62\n",
      "          4       0.88      0.88      0.88        67\n",
      "          5       0.81      0.85      0.83        55\n",
      "          6       0.78      0.90      0.84        60\n",
      "          7       0.92      0.88      0.90        64\n",
      "          8       0.90      0.88      0.89        52\n",
      "          9       0.98      0.96      0.97        55\n",
      "         10       0.94      0.96      0.95        53\n",
      "         11       1.00      0.96      0.98        52\n",
      "         12       0.91      0.80      0.85        65\n",
      "         13       0.96      0.93      0.95        59\n",
      "         14       0.97      0.97      0.97        68\n",
      "         15       0.86      0.94      0.90        52\n",
      "         16       0.90      0.98      0.94        61\n",
      "         17       0.93      0.95      0.94        59\n",
      "         18       0.95      0.90      0.93        63\n",
      "         19       0.95      0.53      0.68        38\n",
      "\n",
      "avg / total       0.89      0.89      0.89      1132\n",
      "\n",
      "--------------------------------------------\n",
      "0.889575971731\n",
      "LinearSVC\n",
      "--------------------------------------------\n",
      "             precision    recall  f1-score   support\n",
      "\n",
      "          0       0.93      0.91      0.92        47\n",
      "          1       0.71      0.85      0.77        46\n",
      "          2       0.92      0.89      0.91        54\n",
      "          3       0.74      0.73      0.73        62\n",
      "          4       0.93      0.85      0.89        67\n",
      "          5       0.90      0.82      0.86        55\n",
      "          6       0.78      0.83      0.81        60\n",
      "          7       0.92      0.95      0.94        64\n",
      "          8       0.91      0.92      0.91        52\n",
      "          9       0.98      1.00      0.99        55\n",
      "         10       0.96      0.98      0.97        53\n",
      "         11       1.00      0.98      0.99        52\n",
      "         12       0.86      0.85      0.85        65\n",
      "         13       0.92      0.93      0.92        59\n",
      "         14       0.97      0.94      0.96        68\n",
      "         15       0.87      0.92      0.90        52\n",
      "         16       0.92      0.97      0.94        61\n",
      "         17       0.92      0.98      0.95        59\n",
      "         18       0.95      0.90      0.93        63\n",
      "         19       0.81      0.66      0.72        38\n",
      "\n",
      "avg / total       0.90      0.90      0.90      1132\n",
      "\n",
      "--------------------------------------------\n",
      "0.896643109541\n",
      "XGBClassifier\n",
      "--------------------------------------------\n",
      "             precision    recall  f1-score   support\n",
      "\n",
      "          0       0.92      0.74      0.82        47\n",
      "          1       0.64      0.78      0.71        46\n",
      "          2       0.75      0.76      0.75        54\n",
      "          3       0.57      0.63      0.60        62\n",
      "          4       0.88      0.76      0.82        67\n",
      "          5       0.88      0.78      0.83        55\n",
      "          6       0.75      0.77      0.76        60\n",
      "          7       0.86      0.88      0.87        64\n",
      "          8       0.94      0.88      0.91        52\n",
      "          9       0.88      0.91      0.89        55\n",
      "         10       0.92      0.87      0.89        53\n",
      "         11       1.00      0.96      0.98        52\n",
      "         12       0.54      0.75      0.63        65\n",
      "         13       0.85      0.88      0.87        59\n",
      "         14       0.93      0.79      0.86        68\n",
      "         15       0.79      0.88      0.84        52\n",
      "         16       0.90      0.93      0.92        61\n",
      "         17       0.95      0.88      0.91        59\n",
      "         18       0.85      0.79      0.82        63\n",
      "         19       0.74      0.61      0.67        38\n",
      "\n",
      "avg / total       0.83      0.81      0.82      1132\n",
      "\n",
      "--------------------------------------------\n",
      "0.814487632509\n"
     ]
    }
   ],
   "source": [
    "best_models = [best_nb,best_svc, best_xgb]\n",
    "print('Best param for MultinomialNB model {}:'.format(nb_best_param))\n",
    "print('Best param for LinearSVC model: {}'.format(svc_best_param) )\n",
    "print('Best param for Xgboost model:{}'.format(xgb_best_param))\n",
    "\n",
    "for model in best_models:\n",
    "    evalute_score(model, x_val, y_val)"
   ]
  },
  {
   "cell_type": "markdown",
   "metadata": {
    "collapsed": true
   },
   "source": [
    "- 在测试集上Run："
   ]
  },
  {
   "cell_type": "code",
   "execution_count": 28,
   "metadata": {},
   "outputs": [
    {
     "name": "stdout",
     "output_type": "stream",
     "text": [
      "DecisionTreeClassifier\n",
      "--------------------------------------------\n",
      "             precision    recall  f1-score   support\n",
      "\n",
      "          0       0.44      0.47      0.46       319\n",
      "          1       0.42      0.43      0.43       389\n",
      "          2       0.55      0.58      0.57       394\n",
      "          3       0.41      0.46      0.44       392\n",
      "          4       0.59      0.58      0.59       385\n",
      "          5       0.51      0.48      0.50       395\n",
      "          6       0.66      0.72      0.69       390\n",
      "          7       0.56      0.60      0.57       396\n",
      "          8       0.77      0.76      0.76       398\n",
      "          9       0.55      0.57      0.56       397\n",
      "         10       0.73      0.71      0.72       399\n",
      "         11       0.77      0.71      0.74       396\n",
      "         12       0.38      0.36      0.37       393\n",
      "         13       0.52      0.48      0.50       396\n",
      "         14       0.67      0.63      0.65       394\n",
      "         15       0.68      0.73      0.70       398\n",
      "         16       0.52      0.67      0.59       364\n",
      "         17       0.73      0.57      0.64       376\n",
      "         18       0.41      0.35      0.38       310\n",
      "         19       0.39      0.33      0.36       251\n",
      "\n",
      "avg / total       0.57      0.57      0.57      7532\n",
      "\n",
      "--------------------------------------------\n",
      "0.567578332448\n",
      "MultinomialNB\n",
      "--------------------------------------------\n",
      "             precision    recall  f1-score   support\n",
      "\n",
      "          0       0.78      0.72      0.75       319\n",
      "          1       0.64      0.71      0.67       389\n",
      "          2       0.67      0.68      0.68       394\n",
      "          3       0.65      0.72      0.68       392\n",
      "          4       0.83      0.75      0.79       385\n",
      "          5       0.80      0.77      0.78       395\n",
      "          6       0.79      0.83      0.81       390\n",
      "          7       0.84      0.87      0.85       396\n",
      "          8       0.89      0.92      0.90       398\n",
      "          9       0.94      0.90      0.92       397\n",
      "         10       0.91      0.97      0.94       399\n",
      "         11       0.92      0.90      0.91       396\n",
      "         12       0.74      0.68      0.71       393\n",
      "         13       0.88      0.78      0.82       396\n",
      "         14       0.85      0.88      0.86       394\n",
      "         15       0.79      0.92      0.85       398\n",
      "         16       0.72      0.90      0.80       364\n",
      "         17       0.96      0.91      0.93       376\n",
      "         18       0.77      0.61      0.68       310\n",
      "         19       0.66      0.51      0.57       251\n",
      "\n",
      "avg / total       0.81      0.80      0.80      7532\n",
      "\n",
      "--------------------------------------------\n",
      "0.803505045141\n",
      "LinearSVC\n",
      "--------------------------------------------\n",
      "             precision    recall  f1-score   support\n",
      "\n",
      "          0       0.80      0.73      0.76       319\n",
      "          1       0.67      0.71      0.69       389\n",
      "          2       0.73      0.71      0.72       394\n",
      "          3       0.68      0.69      0.68       392\n",
      "          4       0.78      0.79      0.79       385\n",
      "          5       0.82      0.73      0.77       395\n",
      "          6       0.80      0.88      0.84       390\n",
      "          7       0.87      0.87      0.87       396\n",
      "          8       0.92      0.93      0.93       398\n",
      "          9       0.91      0.90      0.90       397\n",
      "         10       0.93      0.96      0.95       399\n",
      "         11       0.94      0.93      0.93       396\n",
      "         12       0.70      0.70      0.70       393\n",
      "         13       0.84      0.85      0.84       396\n",
      "         14       0.88      0.91      0.89       394\n",
      "         15       0.81      0.89      0.85       398\n",
      "         16       0.71      0.88      0.79       364\n",
      "         17       0.96      0.87      0.91       376\n",
      "         18       0.79      0.59      0.68       310\n",
      "         19       0.66      0.59      0.62       251\n",
      "\n",
      "avg / total       0.81      0.81      0.81      7532\n",
      "\n",
      "--------------------------------------------\n",
      "0.812533191715\n",
      "XGBClassifier\n",
      "--------------------------------------------\n",
      "             precision    recall  f1-score   support\n",
      "\n",
      "          0       0.74      0.60      0.66       319\n",
      "          1       0.58      0.68      0.63       389\n",
      "          2       0.68      0.72      0.70       394\n",
      "          3       0.59      0.67      0.63       392\n",
      "          4       0.75      0.76      0.75       385\n",
      "          5       0.79      0.63      0.70       395\n",
      "          6       0.79      0.86      0.82       390\n",
      "          7       0.84      0.76      0.80       396\n",
      "          8       0.88      0.85      0.86       398\n",
      "          9       0.85      0.87      0.86       397\n",
      "         10       0.90      0.86      0.88       399\n",
      "         11       0.89      0.80      0.84       396\n",
      "         12       0.42      0.61      0.50       393\n",
      "         13       0.80      0.71      0.76       396\n",
      "         14       0.82      0.80      0.81       394\n",
      "         15       0.83      0.89      0.86       398\n",
      "         16       0.62      0.77      0.69       364\n",
      "         17       0.95      0.74      0.83       376\n",
      "         18       0.66      0.49      0.57       310\n",
      "         19       0.57      0.52      0.54       251\n",
      "\n",
      "avg / total       0.75      0.74      0.74      7532\n",
      "\n",
      "--------------------------------------------\n",
      "0.738183749336\n"
     ]
    }
   ],
   "source": [
    "models_last = [tree_model,best_nb,best_svc, best_xgb]\n",
    "for model in models_last:\n",
    "    evalute_score(model, X_test, Y_test)"
   ]
  },
  {
   "cell_type": "markdown",
   "metadata": {},
   "source": [
    "\n",
    "#### Ensemble Classifier ####"
   ]
  },
  {
   "cell_type": "markdown",
   "metadata": {},
   "source": [
    "将朴素贝叶斯，决策树，XGBoost 这三个在上文表现稍弱的分类器组合起来，组合成集合分类器，进行分类预测；"
   ]
  },
  {
   "cell_type": "code",
   "execution_count": 34,
   "metadata": {},
   "outputs": [
    {
     "name": "stdout",
     "output_type": "stream",
     "text": [
      "Accuracy: 0.64 (+/- 0.01) [Decision Tree]\n",
      "Accuracy: 0.88 (+/- 0.00) [Naive Bayes]\n",
      "Accuracy: 0.80 (+/- 0.01) [XGBBoosting]\n",
      "Accuracy: 0.86 (+/- 0.01) [Ensemble]\n"
     ]
    }
   ],
   "source": [
    "from sklearn.ensemble import VotingClassifier\n",
    "from sklearn.model_selection import cross_val_score\n",
    "\n",
    "ensemble_model = VotingClassifier(estimators=[('tree', tree_model), ('NB', best_nb), ('xgb',best_xgb)], voting='soft', weights=[1, 1, 1])\n",
    "\n",
    "for model, name in zip([tree_model,best_nb, best_xgb,ensemble_model], ['Decision Tree', 'Naive Bayes', 'XGBBoosting','Ensemble']):\n",
    "    scores = cross_val_score(model, x_train, y_train, cv=5,scoring='accuracy')\n",
    "    print(\"Accuracy: {:.2f} (+/- {:.2f}) [{}]\" .format(scores.mean(), scores.std(), name))"
   ]
  },
  {
   "cell_type": "code",
   "execution_count": 36,
   "metadata": {},
   "outputs": [
    {
     "name": "stdout",
     "output_type": "stream",
     "text": [
      "VotingClassifier\n",
      "--------------------------------------------\n",
      "             precision    recall  f1-score   support\n",
      "\n",
      "          0       0.72      0.71      0.71       319\n",
      "          1       0.65      0.69      0.67       389\n",
      "          2       0.72      0.72      0.72       394\n",
      "          3       0.65      0.70      0.67       392\n",
      "          4       0.78      0.77      0.78       385\n",
      "          5       0.77      0.73      0.75       395\n",
      "          6       0.82      0.87      0.84       390\n",
      "          7       0.83      0.84      0.83       396\n",
      "          8       0.91      0.93      0.92       398\n",
      "          9       0.87      0.89      0.88       397\n",
      "         10       0.91      0.96      0.94       399\n",
      "         11       0.91      0.90      0.91       396\n",
      "         12       0.69      0.61      0.64       393\n",
      "         13       0.80      0.72      0.76       396\n",
      "         14       0.86      0.87      0.87       394\n",
      "         15       0.84      0.92      0.88       398\n",
      "         16       0.68      0.88      0.77       364\n",
      "         17       0.93      0.87      0.90       376\n",
      "         18       0.72      0.56      0.63       310\n",
      "         19       0.67      0.48      0.56       251\n",
      "\n",
      "avg / total       0.79      0.79      0.79      7532\n",
      "\n",
      "--------------------------------------------\n",
      "0.790493892724\n"
     ]
    }
   ],
   "source": [
    "ensemble_model.fit(x_train,y_train)\n",
    "evalute_score(ensemble_model, X_test, Y_test)"
   ]
  },
  {
   "cell_type": "markdown",
   "metadata": {},
   "source": [
    "构造的柔性集合分类器在测试集上得分为79.05%，不如单独的朴素贝叶斯分类器，可能还需要更多的改进；"
   ]
  },
  {
   "cell_type": "markdown",
   "metadata": {},
   "source": [
    "最终，经过比较，LinearSVC 在20news 测试集上表现最好，准确率为81.25%，通过热力图，展现LinearSVC在20类新闻中分别的预测情况"
   ]
  },
  {
   "cell_type": "code",
   "execution_count": 48,
   "metadata": {},
   "outputs": [
    {
     "data": {
      "text/plain": [
       "<matplotlib.text.Text at 0x19194836a90>"
      ]
     },
     "execution_count": 48,
     "metadata": {},
     "output_type": "execute_result"
    },
    {
     "data": {
      "image/png": "[encoded data removed]",
      "text/plain": [
       "<matplotlib.figure.Figure at 0x19194816c88>"
      ]
     },
     "metadata": {},
     "output_type": "display_data"
    }
   ],
   "source": [
    "from sklearn.metrics import confusion_matrix\n",
    "import seaborn as sns\n",
    "\n",
    "plt.figure(figsize=(10,10))\n",
    "Y_pred = best_svc.predict(X_test)\n",
    "martix = confusion_matrix(Y_test, Y_pred)\n",
    "\n",
    "sns.heatmap(martix.T, square=True, annot=True, fmt='d',cmap='RdYlGn_r',\n",
    "            xticklabels = news_test.target_names, yticklabels = news_test.target_names)\n",
    "plt.xlabel('Value of Test')\n",
    "plt.ylabel('predicted Value')"
   ]
  }
 ],
 "metadata": {
  "kernelspec": {
   "display_name": "Python 3",
   "language": "python",
   "name": "python3"
  },
  "language_info": {
   "codemirror_mode": {
    "name": "ipython",
    "version": 3
   },
   "file_extension": ".py",
   "mimetype": "text/x-python",
   "name": "python",
   "nbconvert_exporter": "python",
   "pygments_lexer": "ipython3",
   "version": "3.5.4"
  }
 },
 "nbformat": 4,
 "nbformat_minor": 2
}
