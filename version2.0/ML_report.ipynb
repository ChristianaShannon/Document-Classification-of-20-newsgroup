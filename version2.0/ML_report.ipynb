{
 "cells": [
  {
   "cell_type": "code",
   "execution_count": 2,
   "metadata": {
    "collapsed": true
   },
   "outputs": [],
   "source": [
    "from sklearn.datasets import fetch_20newsgroups\n",
    "\n",
    "from sklearn.tree import DecisionTreeClassifier\n",
    "from sklearn.svm import SVC, LinearSVC\n",
    "from sklearn.naive_bayes import MultinomialNB\n",
    "from xgboost.sklearn import XGBClassifier\n",
    "\n",
    "from sklearn.model_selection import GridSearchCV, train_test_split\n",
    "from sklearn.metrics import accuracy_score, classification_report\n",
    "from sklearn.feature_extraction.text import TfidfVectorizer\n",
    "\n",
    "import re\n",
    "from collections import Counter\n",
    "import numpy as np\n",
    "\n",
    "import matplotlib.pyplot as plt\n",
    "%matplotlib inline"
   ]
  },
  {
   "cell_type": "code",
   "execution_count": 3,
   "metadata": {
    "collapsed": true
   },
   "outputs": [],
   "source": [
    "news_train = fetch_20newsgroups(subset='train', shuffle=True, random_state=42)\n",
    "news_test = fetch_20newsgroups(subset='test', shuffle=True, random_state=42)"
   ]
  },
  {
   "cell_type": "code",
   "execution_count": 4,
   "metadata": {},
   "outputs": [
    {
     "name": "stdout",
     "output_type": "stream",
     "text": [
      "From: lerxst@wam.umd.edu (where's my thing)\n",
      "Subject: WHAT car is this!?\n",
      "Nntp-Posting-Host: rac3.wam.umd.edu\n",
      "Organization: University of Maryland, College Park\n",
      "Lines: 15\n",
      "\n",
      " I was wondering if anyone out there could enlighten me on this car I saw\n",
      "the other day. It was a 2-door sports car, looked to be from the late 60s/\n",
      "early 70s. It was called a Bricklin. The doors were really small. In addition,\n",
      "the front bumper was separate from the rest of the body. This is \n",
      "all I know. If anyone can tellme a model name, engine specs, years\n",
      "of production, where this car is made, history, or whatever info you\n",
      "have on this funky looking car, please e-mail.\n",
      "\n",
      "Thanks,\n",
      "- IL\n",
      "   ---- brought to you by your neighborhood Lerxst ----\n",
      "\n",
      "\n",
      "\n",
      "\n",
      "\n",
      "[ 7  4  4  1 14]\n"
     ]
    }
   ],
   "source": [
    "print(news_train.data[0])\n",
    "print(news_train.target[:5])"
   ]
  },
  {
   "cell_type": "markdown",
   "metadata": {},
   "source": [
    "### 观察20类新闻的分布情况，每种新闻的总数分别是多少"
   ]
  },
  {
   "cell_type": "code",
   "execution_count": 5,
   "metadata": {},
   "outputs": [
    {
     "name": "stdout",
     "output_type": "stream",
     "text": [
      "{0: 480, 1: 584, 2: 591, 3: 590, 4: 578, 5: 593, 6: 585, 7: 594, 8: 598, 9: 597, 10: 600, 11: 595, 12: 591, 13: 594, 14: 593, 15: 599, 16: 546, 17: 564, 18: 465, 19: 377}\n"
     ]
    },
    {
     "data": {
      "image/png": "[encoded data removed]",
      "text/plain": [
       "<matplotlib.figure.Figure at 0x1a5044c8630>"
      ]
     },
     "metadata": {},
     "output_type": "display_data"
    }
   ],
   "source": [
    "def total_news_class(data):\n",
    "    news_category = dict(Counter(data))\n",
    "    print(news_category)\n",
    "\n",
    "    x_val = [val for val in news_category.keys()]\n",
    "    y_val = [news_category[x] for x in x_val]\n",
    "    plt.bar(left=x_val,height=y_val,width=0.5)\n",
    "    plt.xticks(x_val)\n",
    "    plt.title('news count by category')\n",
    "    plt.ylabel('nums per category')\n",
    "    plt.show()\n",
    "total_news_class(news_train.target)"
   ]
  },
  {
   "cell_type": "markdown",
   "metadata": {},
   "source": [
    "从图表中可知，20类新闻的数量大部分基本相同，均在550-600左右，仅有三组新闻数量偏少，分别为480，465，377，也属于可以接受的范围；"
   ]
  },
  {
   "cell_type": "markdown",
   "metadata": {},
   "source": [
    "## 清洗数据 ##\n",
    "- 去掉所有的单词符号；\n",
    "- #词干提取，将过去式，进行时态等单词转化为原词根,采用了nltk所附带的snowball模式\n",
    "- 在几个分类器上对比，发现词干提取并没有什么用，acc-score 反而降低，遂决定不做词干提取；\n",
    "- 将字母均转化为小写"
   ]
  },
  {
   "cell_type": "code",
   "execution_count": 6,
   "metadata": {},
   "outputs": [
    {
     "name": "stdout",
     "output_type": "stream",
     "text": [
      "from lerxst wam umd edu where s my thing subject what car is this nntp posting host rac3 wam umd edu organization university of maryland college park lines 15 i was wondering if anyone out there could enlighten me on this car i saw the other day it was a 2 door sports car looked to be from the late 60s early 70s it was called a bricklin the doors were really small in addition the front bumper was separate from the rest of the body this is all i know if anyone can tellme a model name engine specs years of production where this car is made history or whatever info you have on this funky looking car please e mail thanks il brought to you by your neighborhood lerxst\n"
     ]
    }
   ],
   "source": [
    "#import re\n",
    "#import nltk\n",
    "#import nltk.stem  \n",
    "\n",
    "def preprocessor(text):\n",
    "    text = re.sub('[\\W]+', ' ', text.lower()) \n",
    "\n",
    "    #new_text =[]\n",
    "    #snowball = nltk.stem.SnowballStemmer('english')  \n",
    "    #text = [snowball.stem(word) for word in text.split()]\n",
    "    #text = ' '.join(text)\n",
    "\n",
    "    return text.strip()\n",
    "train_data=list(map(preprocessor,news_train.data))\n",
    "test_data=list(map(preprocessor,news_test.data))\n",
    "print(train_data[0])"
   ]
  },
  {
   "cell_type": "markdown",
   "metadata": {},
   "source": [
    "- 文档探索\n",
    "    - 探索文档长度\n",
    "    - 探索所有文档中词频分布"
   ]
  },
  {
   "cell_type": "code",
   "execution_count": 7,
   "metadata": {},
   "outputs": [
    {
     "name": "stdout",
     "output_type": "stream",
     "text": [
      "[('the', 146532), ('to', 75064), ('of', 69034), ('a', 64195), ('ax', 62406), ('and', 57957), ('i', 53036), ('in', 49401), ('is', 43480), ('that', 39264)]\n",
      "The max length of document is 16197,the mean length of document is 327.4523599080785, the median length is 191.0\n"
     ]
    }
   ],
   "source": [
    "total_word_class = Counter()\n",
    "d_length = []\n",
    "def count_doc(text):\n",
    "    for doc in text:\n",
    "        d_length.append(len(doc.split()))\n",
    "        for word in doc.split():\n",
    "            total_word_class[word] += 1\n",
    "    return d_length, total_word_class\n",
    "\n",
    "train_d_length, train_total_word_class = count_doc(train_data)\n",
    "print(train_total_word_class.most_common(10))\n",
    "print('The max length of document is {},the mean length of document is {}, the median length is {}'\\\n",
    "    .format(np.max(d_length),np.mean(d_length), np.median(d_length)))"
   ]
  },
  {
   "cell_type": "code",
   "execution_count": 8,
   "metadata": {},
   "outputs": [
    {
     "data": {
      "image/png": "[encoded data removed]",
      "text/plain": [
       "<matplotlib.figure.Figure at 0x1a5015dc2b0>"
      ]
     },
     "metadata": {},
     "output_type": "display_data"
    },
    {
     "data": {
      "image/png": "[encoded data removed]",
      "text/plain": [
       "<matplotlib.figure.Figure at 0x1a501630588>"
      ]
     },
     "metadata": {},
     "output_type": "display_data"
    }
   ],
   "source": [
    "def count_frequency():\n",
    "    plt.hist(d_length, bins=range(100,2800,100), histtype=\"stepfilled\", alpha=.5)  \n",
    "    plt.xlabel('length of document')\n",
    "    plt.ylabel('frequency')\n",
    "    plt.title('the frequency distribution of document length')\n",
    "    plt.show()\n",
    "\n",
    "\n",
    "    x_val = [i[0] for i in train_total_word_class.most_common(20)]\n",
    "    y_val = [i[1] for i in train_total_word_class.most_common(20)]\n",
    "    plt.bar(left=range(20),height=y_val,width=0.5)\n",
    "    plt.xticks(range(20),x_val)\n",
    "    plt.title('most common words in doc')\n",
    "    plt.ylabel('frequency')\n",
    "    plt.show()\n",
    "    \n",
    "count_frequency()"
   ]
  },
  {
   "cell_type": "markdown",
   "metadata": {},
   "source": [
    "- 显然，观察可知，文档长度分布为一拖尾的偏态分布，但是拖尾数据量很少，绝大多数文档长度在1000 单词以内，文档平均长度212，最长长度16062，中位数长度86， 文档长度分布可近似看作正态分布，不再进行特征处理；\n",
    "\n",
    "- 文档中常见词分布：高频词为各类介词（the,of,to, in）及连词和助词（and, is, i, be）等，符合常见高频词分布，最高频词为('the', 146532)，没有异常的高频词，可使用常规停用词；"
   ]
  },
  {
   "cell_type": "markdown",
   "metadata": {},
   "source": [
    "## 加权词频TF-IDF向量 ##"
   ]
  },
  {
   "cell_type": "code",
   "execution_count": 42,
   "metadata": {
    "collapsed": true
   },
   "outputs": [],
   "source": [
    "#vectorizer = TfidfVectorizer(preprocessor=preprocessor, stop_words='english', min_df=0.002)\n",
    "vectorizer = TfidfVectorizer(preprocessor=preprocessor, stop_words='english', min_df=0.0014,max_df=0.7,use_idf=True)\n",
    "#vectorizer = TfidfVectorizer(stop_words='english', min_df=0.001, use_idf=True)\n",
    "X_train = vectorizer.fit_transform(news_train.data)\n",
    "Y_train = news_train.target\n",
    "X_test = vectorizer.transform(news_test.data) \n",
    "Y_test = news_test.target"
   ]
  },
  {
   "cell_type": "code",
   "execution_count": 43,
   "metadata": {},
   "outputs": [
    {
     "name": "stdout",
     "output_type": "stream",
     "text": [
      "(11314, 10576)\n"
     ]
    }
   ],
   "source": [
    "print(X_train.shape)"
   ]
  },
  {
   "cell_type": "markdown",
   "metadata": {},
   "source": [
    "切分数据，划分出10%验证集用于调参"
   ]
  },
  {
   "cell_type": "code",
   "execution_count": 44,
   "metadata": {
    "collapsed": true
   },
   "outputs": [],
   "source": [
    "x_train, x_val, y_train, y_val = train_test_split(X_train, Y_train, test_size=0.1, random_state=42)"
   ]
  },
  {
   "cell_type": "code",
   "execution_count": 45,
   "metadata": {
    "collapsed": true
   },
   "outputs": [],
   "source": [
    "def evaluate_score(model, x, y):\n",
    "    predicted_y = model.predict(x)\n",
    "    print(model.__class__.__name__)\n",
    "    print('--------------------------------------------')\n",
    "    print(classification_report(y, predicted_y))\n",
    "    print('--------------------------------------------')\n",
    "    print(accuracy_score(y, predicted_y))"
   ]
  },
  {
   "cell_type": "markdown",
   "metadata": {},
   "source": [
    "#### 基准分类器 ####\n",
    "\n",
    "以决策树为基准分类器，以其在验证集/测试集得分为基准目标"
   ]
  },
  {
   "cell_type": "code",
   "execution_count": 46,
   "metadata": {},
   "outputs": [
    {
     "name": "stdout",
     "output_type": "stream",
     "text": [
      "DecisionTreeClassifier\n",
      "--------------------------------------------\n",
      "             precision    recall  f1-score   support\n",
      "\n",
      "          0       0.62      0.70      0.66        47\n",
      "          1       0.37      0.41      0.39        46\n",
      "          2       0.64      0.59      0.62        54\n",
      "          3       0.54      0.53      0.54        62\n",
      "          4       0.75      0.60      0.67        67\n",
      "          5       0.65      0.55      0.59        55\n",
      "          6       0.58      0.72      0.64        60\n",
      "          7       0.71      0.73      0.72        64\n",
      "          8       0.86      0.85      0.85        52\n",
      "          9       0.64      0.75      0.69        55\n",
      "         10       0.77      0.68      0.72        53\n",
      "         11       0.76      0.81      0.79        52\n",
      "         12       0.45      0.51      0.47        65\n",
      "         13       0.69      0.78      0.73        59\n",
      "         14       0.78      0.69      0.73        68\n",
      "         15       0.80      0.79      0.80        52\n",
      "         16       0.77      0.75      0.76        61\n",
      "         17       0.81      0.81      0.81        59\n",
      "         18       0.69      0.56      0.61        63\n",
      "         19       0.39      0.39      0.39        38\n",
      "\n",
      "avg / total       0.67      0.66      0.66      1132\n",
      "\n",
      "--------------------------------------------\n",
      "0.663427561837\n"
     ]
    }
   ],
   "source": [
    "tree_model = DecisionTreeClassifier(random_state=10)\n",
    "tree_model.fit(x_train, y_train)\n",
    "\n",
    "evaluate_score(tree_model, x_val, y_val)"
   ]
  },
  {
   "cell_type": "code",
   "execution_count": 47,
   "metadata": {},
   "outputs": [
    {
     "data": {
      "text/plain": [
       "MultinomialNB(alpha=1.0, class_prior=None, fit_prior=True)"
      ]
     },
     "execution_count": 47,
     "metadata": {},
     "output_type": "execute_result"
    }
   ],
   "source": [
    "nb_model = MultinomialNB()\n",
    "nb_model.fit(x_train, y_train)"
   ]
  },
  {
   "cell_type": "code",
   "execution_count": 48,
   "metadata": {},
   "outputs": [
    {
     "data": {
      "text/plain": [
       "LinearSVC(C=1.0, class_weight=None, dual=True, fit_intercept=True,\n",
       "     intercept_scaling=1, loss='squared_hinge', max_iter=1000,\n",
       "     multi_class='ovr', penalty='l2', random_state=10, tol=0.0001,\n",
       "     verbose=0)"
      ]
     },
     "execution_count": 48,
     "metadata": {},
     "output_type": "execute_result"
    }
   ],
   "source": [
    "svc_model = LinearSVC(random_state=10)\n",
    "svc_model.fit(x_train,y_train)"
   ]
  },
  {
   "cell_type": "code",
   "execution_count": 49,
   "metadata": {},
   "outputs": [
    {
     "data": {
      "text/plain": [
       "XGBClassifier(base_score=0.5, colsample_bylevel=1, colsample_bytree=1,\n",
       "       gamma=0, learning_rate=0.1, max_delta_step=0, max_depth=3,\n",
       "       min_child_weight=1, missing=None, n_estimators=100, nthread=-1,\n",
       "       objective='multi:softprob', reg_alpha=0, reg_lambda=1,\n",
       "       scale_pos_weight=1, seed=10, silent=True, subsample=1)"
      ]
     },
     "execution_count": 49,
     "metadata": {},
     "output_type": "execute_result"
    }
   ],
   "source": [
    "xgb_model = XGBClassifier(seed=10)\n",
    "xgb_model.fit(x_train,y_train)"
   ]
  },
  {
   "cell_type": "code",
   "execution_count": 50,
   "metadata": {},
   "outputs": [
    {
     "name": "stdout",
     "output_type": "stream",
     "text": [
      "MultinomialNB\n",
      "--------------------------------------------\n",
      "             precision    recall  f1-score   support\n",
      "\n",
      "          0       0.89      0.89      0.89        47\n",
      "          1       0.74      0.87      0.80        46\n",
      "          2       0.86      0.89      0.87        54\n",
      "          3       0.71      0.79      0.75        62\n",
      "          4       0.90      0.90      0.90        67\n",
      "          5       0.83      0.87      0.85        55\n",
      "          6       0.86      0.83      0.85        60\n",
      "          7       0.92      0.91      0.91        64\n",
      "          8       0.94      0.92      0.93        52\n",
      "          9       0.98      0.98      0.98        55\n",
      "         10       0.93      0.96      0.94        53\n",
      "         11       1.00      0.96      0.98        52\n",
      "         12       0.91      0.78      0.84        65\n",
      "         13       0.96      0.93      0.95        59\n",
      "         14       0.96      0.94      0.95        68\n",
      "         15       0.70      0.96      0.81        52\n",
      "         16       0.85      0.98      0.91        61\n",
      "         17       0.92      0.98      0.95        59\n",
      "         18       0.98      0.83      0.90        63\n",
      "         19       1.00      0.29      0.45        38\n",
      "\n",
      "avg / total       0.89      0.88      0.88      1132\n",
      "\n",
      "--------------------------------------------\n",
      "0.882508833922\n",
      "LinearSVC\n",
      "--------------------------------------------\n",
      "             precision    recall  f1-score   support\n",
      "\n",
      "          0       0.94      0.94      0.94        47\n",
      "          1       0.72      0.83      0.77        46\n",
      "          2       0.91      0.89      0.90        54\n",
      "          3       0.74      0.73      0.73        62\n",
      "          4       0.88      0.88      0.88        67\n",
      "          5       0.90      0.82      0.86        55\n",
      "          6       0.78      0.85      0.82        60\n",
      "          7       0.95      0.94      0.94        64\n",
      "          8       0.89      0.92      0.91        52\n",
      "          9       1.00      1.00      1.00        55\n",
      "         10       0.96      0.98      0.97        53\n",
      "         11       1.00      0.98      0.99        52\n",
      "         12       0.87      0.83      0.85        65\n",
      "         13       0.95      0.95      0.95        59\n",
      "         14       0.97      0.97      0.97        68\n",
      "         15       0.88      0.94      0.91        52\n",
      "         16       0.95      0.98      0.97        61\n",
      "         17       0.97      0.98      0.97        59\n",
      "         18       0.98      0.90      0.94        63\n",
      "         19       0.85      0.74      0.79        38\n",
      "\n",
      "avg / total       0.91      0.90      0.90      1132\n",
      "\n",
      "--------------------------------------------\n",
      "0.904593639576\n",
      "XGBClassifier\n",
      "--------------------------------------------\n",
      "             precision    recall  f1-score   support\n",
      "\n",
      "          0       0.92      0.77      0.84        47\n",
      "          1       0.68      0.78      0.73        46\n",
      "          2       0.72      0.72      0.72        54\n",
      "          3       0.52      0.61      0.56        62\n",
      "          4       0.88      0.75      0.81        67\n",
      "          5       0.88      0.76      0.82        55\n",
      "          6       0.70      0.72      0.71        60\n",
      "          7       0.86      0.86      0.86        64\n",
      "          8       0.90      0.88      0.89        52\n",
      "          9       0.85      0.91      0.88        55\n",
      "         10       0.90      0.87      0.88        53\n",
      "         11       0.98      0.96      0.97        52\n",
      "         12       0.57      0.72      0.64        65\n",
      "         13       0.87      0.88      0.87        59\n",
      "         14       0.90      0.81      0.85        68\n",
      "         15       0.81      0.88      0.84        52\n",
      "         16       0.90      0.93      0.92        61\n",
      "         17       0.93      0.90      0.91        59\n",
      "         18       0.83      0.79      0.81        63\n",
      "         19       0.73      0.58      0.65        38\n",
      "\n",
      "avg / total       0.82      0.81      0.81      1132\n",
      "\n",
      "--------------------------------------------\n",
      "0.806537102473\n"
     ]
    }
   ],
   "source": [
    "models = [nb_model,svc_model,xgb_model]\n",
    "for model in models:\n",
    "    evaluate_score(model, x_val, y_val)"
   ]
  },
  {
   "cell_type": "code",
   "execution_count": 51,
   "metadata": {},
   "outputs": [
    {
     "name": "stdout",
     "output_type": "stream",
     "text": [
      "(10182, 10576)\n",
      "(10182,)\n"
     ]
    }
   ],
   "source": [
    "print(x_train.shape)\n",
    "print(y_train.shape)"
   ]
  },
  {
   "cell_type": "markdown",
   "metadata": {},
   "source": [
    "#### 模型调优 ####\n",
    "\n",
    "对贝叶斯，主要调节平滑参数alpah；"
   ]
  },
  {
   "cell_type": "code",
   "execution_count": 52,
   "metadata": {
    "collapsed": true
   },
   "outputs": [],
   "source": [
    "from sklearn.model_selection import GridSearchCV,KFold\n",
    "\n",
    "parameters = {'alpha':[round(0.005*i, 3) for i in range(1, 180, 9)]}\n",
    "kfold= KFold(n_splits=5,random_state=10)\n",
    "\n",
    "nb_grid_obj = GridSearchCV(nb_model,parameters,cv=kfold)\n",
    "nb_grid_obj.fit(x_train,y_train)\n",
    "\n",
    "nb_best_param = nb_grid_obj.best_params_\n",
    "best_nb = nb_grid_obj.best_estimator_"
   ]
  },
  {
   "cell_type": "markdown",
   "metadata": {},
   "source": [
    "对LinearSVC， 主要调节C值，tol值，max_iter值："
   ]
  },
  {
   "cell_type": "code",
   "execution_count": 53,
   "metadata": {
    "collapsed": true
   },
   "outputs": [],
   "source": [
    "C = [0.1,0.5,0.9,1.3,1.7]\n",
    "tol = [1e-3, 1e-2, 0.1]\n",
    "#max_iter = [1e3, 5e3, 1e4]\n",
    "parameters = {'C': C, 'tol': tol}\n",
    "kfold= KFold(n_splits=5,random_state=10)\n",
    "\n",
    "svc_grid_obj = GridSearchCV(svc_model,parameters,cv=kfold)\n",
    "svc_grid_obj.fit(x_train,y_train)\n",
    "\n",
    "svc_best_param = svc_grid_obj.best_params_\n",
    "best_svc = svc_grid_obj.best_estimator_"
   ]
  },
  {
   "cell_type": "markdown",
   "metadata": {},
   "source": [
    "对Xgb，主要有learning_rate，max_depth，n_estimators，gamma参数进行优化，这里选取了n_estimators 和max_depth进行优化"
   ]
  },
  {
   "cell_type": "code",
   "execution_count": 57,
   "metadata": {
    "collapsed": true
   },
   "outputs": [],
   "source": [
    "n_estimators = [50,100,150,200]\n",
    "max_depth = [3,5,8]\n",
    "#max_depth = [n for n in range(3,9)]\n",
    "#learning_rate = [0.001, 0.01, 0.1]\n",
    "\n",
    "parameters = {'n_estimators': n_estimators,'max_depth': max_depth}\n",
    "kfold= KFold(n_splits=5,random_state=10)\n",
    "\n",
    "xgb_grid_obj = GridSearchCV(xgb_model,parameters,cv=kfold)\n",
    "\n",
    "xgb_grid_obj.fit(x_train,y_train)\n",
    "\n",
    "xgb_best_param = xgb_grid_obj.best_params_\n",
    "best_xgb = xgb_grid_obj.best_estimator_"
   ]
  },
  {
   "cell_type": "code",
   "execution_count": 58,
   "metadata": {},
   "outputs": [
    {
     "name": "stdout",
     "output_type": "stream",
     "text": [
      "Best param for MultinomialNB model {'alpha': 0.05}:\n",
      "Best param for LinearSVC model: {'tol': 0.01, 'C': 0.9}\n",
      "Best param for Xgboost model:{'n_estimators': 200, 'max_depth': 5}\n",
      "MultinomialNB\n",
      "--------------------------------------------\n",
      "             precision    recall  f1-score   support\n",
      "\n",
      "          0       0.90      0.94      0.92        47\n",
      "          1       0.76      0.89      0.82        46\n",
      "          2       0.90      0.81      0.85        54\n",
      "          3       0.75      0.84      0.79        62\n",
      "          4       0.91      0.93      0.92        67\n",
      "          5       0.82      0.85      0.84        55\n",
      "          6       0.78      0.88      0.83        60\n",
      "          7       0.95      0.88      0.91        64\n",
      "          8       0.94      0.90      0.92        52\n",
      "          9       0.98      0.98      0.98        55\n",
      "         10       0.96      0.96      0.96        53\n",
      "         11       1.00      0.96      0.98        52\n",
      "         12       0.93      0.82      0.87        65\n",
      "         13       0.98      0.93      0.96        59\n",
      "         14       0.97      0.97      0.97        68\n",
      "         15       0.83      0.94      0.88        52\n",
      "         16       0.92      0.98      0.95        61\n",
      "         17       0.97      0.98      0.97        59\n",
      "         18       0.98      0.94      0.96        63\n",
      "         19       0.88      0.61      0.72        38\n",
      "\n",
      "avg / total       0.91      0.90      0.90      1132\n",
      "\n",
      "--------------------------------------------\n",
      "0.904593639576\n",
      "LinearSVC\n",
      "--------------------------------------------\n",
      "             precision    recall  f1-score   support\n",
      "\n",
      "          0       0.94      0.94      0.94        47\n",
      "          1       0.72      0.85      0.78        46\n",
      "          2       0.91      0.89      0.90        54\n",
      "          3       0.73      0.74      0.74        62\n",
      "          4       0.91      0.88      0.89        67\n",
      "          5       0.90      0.82      0.86        55\n",
      "          6       0.80      0.85      0.82        60\n",
      "          7       0.95      0.94      0.94        64\n",
      "          8       0.89      0.92      0.91        52\n",
      "          9       1.00      1.00      1.00        55\n",
      "         10       0.96      0.98      0.97        53\n",
      "         11       1.00      0.98      0.99        52\n",
      "         12       0.87      0.83      0.85        65\n",
      "         13       0.95      0.93      0.94        59\n",
      "         14       0.99      0.97      0.98        68\n",
      "         15       0.88      0.94      0.91        52\n",
      "         16       0.94      0.98      0.96        61\n",
      "         17       0.97      0.98      0.97        59\n",
      "         18       0.97      0.90      0.93        63\n",
      "         19       0.85      0.74      0.79        38\n",
      "\n",
      "avg / total       0.91      0.91      0.91      1132\n",
      "\n",
      "--------------------------------------------\n",
      "0.905477031802\n",
      "XGBClassifier\n",
      "--------------------------------------------\n",
      "             precision    recall  f1-score   support\n",
      "\n",
      "          0       0.95      0.81      0.87        47\n",
      "          1       0.62      0.83      0.71        46\n",
      "          2       0.76      0.76      0.76        54\n",
      "          3       0.67      0.73      0.70        62\n",
      "          4       0.88      0.79      0.83        67\n",
      "          5       0.88      0.76      0.82        55\n",
      "          6       0.78      0.77      0.77        60\n",
      "          7       0.89      0.92      0.91        64\n",
      "          8       0.90      0.88      0.89        52\n",
      "          9       0.90      0.96      0.93        55\n",
      "         10       0.96      0.92      0.94        53\n",
      "         11       0.98      0.96      0.97        52\n",
      "         12       0.68      0.75      0.72        65\n",
      "         13       0.84      0.90      0.87        59\n",
      "         14       0.93      0.84      0.88        68\n",
      "         15       0.80      0.87      0.83        52\n",
      "         16       0.95      0.93      0.94        61\n",
      "         17       0.95      0.95      0.95        59\n",
      "         18       0.88      0.84      0.86        63\n",
      "         19       0.76      0.68      0.72        38\n",
      "\n",
      "avg / total       0.85      0.84      0.85      1132\n",
      "\n",
      "--------------------------------------------\n",
      "0.844522968198\n"
     ]
    }
   ],
   "source": [
    "best_models = [best_nb,best_svc, best_xgb]\n",
    "print('Best param for MultinomialNB model {}:'.format(nb_best_param))\n",
    "print('Best param for LinearSVC model: {}'.format(svc_best_param) )\n",
    "print('Best param for Xgboost model:{}'.format(xgb_best_param))\n",
    "\n",
    "for model in best_models:\n",
    "    evaluate_score(model, x_val, y_val)"
   ]
  },
  {
   "cell_type": "markdown",
   "metadata": {},
   "source": [
    "- 在测试集上Run："
   ]
  },
  {
   "cell_type": "code",
   "execution_count": 60,
   "metadata": {},
   "outputs": [
    {
     "name": "stdout",
     "output_type": "stream",
     "text": [
      "DecisionTreeClassifier\n",
      "--------------------------------------------\n",
      "             precision    recall  f1-score   support\n",
      "\n",
      "          0       0.49      0.52      0.50       319\n",
      "          1       0.43      0.46      0.44       389\n",
      "          2       0.55      0.60      0.58       394\n",
      "          3       0.44      0.44      0.44       392\n",
      "          4       0.59      0.62      0.60       385\n",
      "          5       0.57      0.47      0.51       395\n",
      "          6       0.66      0.73      0.70       390\n",
      "          7       0.60      0.59      0.60       396\n",
      "          8       0.77      0.78      0.78       398\n",
      "          9       0.55      0.57      0.56       397\n",
      "         10       0.72      0.71      0.71       399\n",
      "         11       0.78      0.70      0.74       396\n",
      "         12       0.34      0.38      0.36       393\n",
      "         13       0.51      0.47      0.49       396\n",
      "         14       0.67      0.65      0.66       394\n",
      "         15       0.73      0.77      0.75       398\n",
      "         16       0.56      0.64      0.60       364\n",
      "         17       0.79      0.60      0.68       376\n",
      "         18       0.37      0.37      0.37       310\n",
      "         19       0.36      0.33      0.34       251\n",
      "\n",
      "avg / total       0.58      0.58      0.58      7532\n",
      "\n",
      "--------------------------------------------\n",
      "0.576872012746\n",
      "MultinomialNB\n",
      "--------------------------------------------\n",
      "             precision    recall  f1-score   support\n",
      "\n",
      "          0       0.82      0.75      0.78       319\n",
      "          1       0.63      0.73      0.68       389\n",
      "          2       0.67      0.68      0.68       394\n",
      "          3       0.68      0.74      0.71       392\n",
      "          4       0.84      0.78      0.80       385\n",
      "          5       0.81      0.76      0.78       395\n",
      "          6       0.77      0.82      0.79       390\n",
      "          7       0.87      0.87      0.87       396\n",
      "          8       0.90      0.93      0.91       398\n",
      "          9       0.93      0.91      0.92       397\n",
      "         10       0.92      0.97      0.94       399\n",
      "         11       0.92      0.90      0.91       396\n",
      "         12       0.77      0.70      0.73       393\n",
      "         13       0.89      0.81      0.85       396\n",
      "         14       0.86      0.89      0.88       394\n",
      "         15       0.81      0.92      0.87       398\n",
      "         16       0.72      0.89      0.80       364\n",
      "         17       0.96      0.92      0.94       376\n",
      "         18       0.78      0.61      0.68       310\n",
      "         19       0.70      0.53      0.60       251\n",
      "\n",
      "avg / total       0.82      0.81      0.81      7532\n",
      "\n",
      "--------------------------------------------\n",
      "0.813197026022\n",
      "LinearSVC\n",
      "--------------------------------------------\n",
      "             precision    recall  f1-score   support\n",
      "\n",
      "          0       0.81      0.73      0.77       319\n",
      "          1       0.69      0.74      0.71       389\n",
      "          2       0.74      0.73      0.74       394\n",
      "          3       0.70      0.71      0.71       392\n",
      "          4       0.79      0.81      0.80       385\n",
      "          5       0.82      0.73      0.77       395\n",
      "          6       0.81      0.88      0.84       390\n",
      "          7       0.89      0.87      0.88       396\n",
      "          8       0.93      0.93      0.93       398\n",
      "          9       0.89      0.92      0.90       397\n",
      "         10       0.93      0.97      0.95       399\n",
      "         11       0.93      0.94      0.94       396\n",
      "         12       0.75      0.73      0.74       393\n",
      "         13       0.86      0.86      0.86       396\n",
      "         14       0.89      0.92      0.91       394\n",
      "         15       0.83      0.91      0.87       398\n",
      "         16       0.73      0.89      0.80       364\n",
      "         17       0.97      0.88      0.92       376\n",
      "         18       0.79      0.60      0.68       310\n",
      "         19       0.68      0.60      0.64       251\n",
      "\n",
      "avg / total       0.83      0.82      0.82      7532\n",
      "\n",
      "--------------------------------------------\n",
      "0.824747742963\n",
      "XGBClassifier\n",
      "--------------------------------------------\n",
      "             precision    recall  f1-score   support\n",
      "\n",
      "          0       0.77      0.64      0.70       319\n",
      "          1       0.61      0.67      0.64       389\n",
      "          2       0.71      0.71      0.71       394\n",
      "          3       0.58      0.69      0.63       392\n",
      "          4       0.75      0.79      0.77       385\n",
      "          5       0.78      0.70      0.74       395\n",
      "          6       0.82      0.87      0.84       390\n",
      "          7       0.84      0.79      0.82       396\n",
      "          8       0.91      0.87      0.89       398\n",
      "          9       0.86      0.89      0.87       397\n",
      "         10       0.92      0.89      0.91       399\n",
      "         11       0.91      0.85      0.88       396\n",
      "         12       0.53      0.64      0.58       393\n",
      "         13       0.82      0.78      0.80       396\n",
      "         14       0.84      0.85      0.84       394\n",
      "         15       0.84      0.91      0.87       398\n",
      "         16       0.64      0.81      0.71       364\n",
      "         17       0.97      0.76      0.86       376\n",
      "         18       0.68      0.52      0.59       310\n",
      "         19       0.60      0.55      0.57       251\n",
      "\n",
      "avg / total       0.77      0.77      0.77      7532\n",
      "\n",
      "--------------------------------------------\n",
      "0.766064790228\n"
     ]
    }
   ],
   "source": [
    "models_last = [tree_model,best_nb,best_svc, best_xgb]\n",
    "for model in models_last:\n",
    "    evaluate_score(model, X_test, Y_test)"
   ]
  },
  {
   "cell_type": "markdown",
   "metadata": {},
   "source": [
    "#### Ensemble Classifier ####"
   ]
  },
  {
   "cell_type": "markdown",
   "metadata": {},
   "source": [
    "将朴素贝叶斯，决策树，XGBoost 这三个在上文表现稍弱的分类器组合起来，组合成集合分类器，进行分类预测；"
   ]
  },
  {
   "cell_type": "code",
   "execution_count": 61,
   "metadata": {},
   "outputs": [
    {
     "name": "stdout",
     "output_type": "stream",
     "text": [
      "Accuracy: 0.65 (+/- 0.01) [Decision Tree]\n",
      "Accuracy: 0.89 (+/- 0.00) [Naive Bayes]\n",
      "Accuracy: 0.83 (+/- 0.01) [XGBBoosting]\n",
      "Accuracy: 0.82 (+/- 0.01) [Ensemble]\n"
     ]
    }
   ],
   "source": [
    "from sklearn.ensemble import VotingClassifier\n",
    "from sklearn.model_selection import cross_val_score\n",
    "\n",
    "ensemble_model = VotingClassifier(estimators=[('tree', tree_model), ('NB', best_nb), ('xgb',best_xgb)], voting='soft', weights=[1, 1, 1])\n",
    "\n",
    "for model, name in zip([tree_model,best_nb, best_xgb,ensemble_model], ['Decision Tree', 'Naive Bayes', 'XGBBoosting','Ensemble']):\n",
    "    scores = cross_val_score(model, x_train, y_train, cv=5,scoring='accuracy')\n",
    "    print(\"Accuracy: {:.2f} (+/- {:.2f}) [{}]\" .format(scores.mean(), scores.std(), name))"
   ]
  },
  {
   "cell_type": "code",
   "execution_count": 62,
   "metadata": {},
   "outputs": [
    {
     "name": "stdout",
     "output_type": "stream",
     "text": [
      "VotingClassifier\n",
      "--------------------------------------------\n",
      "             precision    recall  f1-score   support\n",
      "\n",
      "          0       0.70      0.67      0.68       319\n",
      "          1       0.61      0.65      0.63       389\n",
      "          2       0.67      0.70      0.69       394\n",
      "          3       0.62      0.62      0.62       392\n",
      "          4       0.72      0.76      0.74       385\n",
      "          5       0.73      0.67      0.70       395\n",
      "          6       0.77      0.83      0.80       390\n",
      "          7       0.77      0.76      0.76       396\n",
      "          8       0.86      0.88      0.87       398\n",
      "          9       0.78      0.84      0.81       397\n",
      "         10       0.86      0.92      0.89       399\n",
      "         11       0.90      0.85      0.87       396\n",
      "         12       0.54      0.53      0.53       393\n",
      "         13       0.70      0.65      0.67       396\n",
      "         14       0.85      0.82      0.83       394\n",
      "         15       0.83      0.90      0.86       398\n",
      "         16       0.66      0.84      0.74       364\n",
      "         17       0.91      0.77      0.83       376\n",
      "         18       0.65      0.51      0.57       310\n",
      "         19       0.60      0.49      0.54       251\n",
      "\n",
      "avg / total       0.74      0.74      0.74      7532\n",
      "\n",
      "--------------------------------------------\n",
      "0.740175252257\n"
     ]
    }
   ],
   "source": [
    "ensemble_model.fit(x_train,y_train)\n",
    "evaluate_score(ensemble_model, X_test, Y_test)"
   ]
  },
  {
   "cell_type": "markdown",
   "metadata": {},
   "source": [
    "最终，经过比较，LinearSVC 在20news 测试集上表现最好，准确率为82.47%，通过热力图，展现LinearSVC在20类新闻中分别的预测情况"
   ]
  },
  {
   "cell_type": "code",
   "execution_count": 63,
   "metadata": {},
   "outputs": [
    {
     "data": {
      "text/plain": [
       "<matplotlib.text.Text at 0x1a5092ff390>"
      ]
     },
     "execution_count": 63,
     "metadata": {},
     "output_type": "execute_result"
    },
    {
     "data": {
      "image/png": "[encoded data removed]",
      "text/plain": [
       "<matplotlib.figure.Figure at 0x1a503472860>"
      ]
     },
     "metadata": {},
     "output_type": "display_data"
    }
   ],
   "source": [
    "from sklearn.metrics import confusion_matrix\n",
    "import seaborn as sns\n",
    "\n",
    "plt.figure(figsize=(10,10))\n",
    "Y_pred = best_svc.predict(X_test)\n",
    "martix = confusion_matrix(Y_test, Y_pred)\n",
    "\n",
    "sns.heatmap(martix.T, square=True, annot=True, fmt='d',cmap='RdYlGn_r',\n",
    "            xticklabels = news_test.target_names, yticklabels = news_test.target_names)\n",
    "plt.xlabel('Value of Test')\n",
    "plt.ylabel('predicted Value')"
   ]
  }
 ],
 "metadata": {
  "kernelspec": {
   "display_name": "Python 3",
   "language": "python",
   "name": "python3"
  },
  "language_info": {
   "codemirror_mode": {
    "name": "ipython",
    "version": 3
   },
   "file_extension": ".py",
   "mimetype": "text/x-python",
   "name": "python",
   "nbconvert_exporter": "python",
   "pygments_lexer": "ipython3",
   "version": "3.5.4"
  }
 },
 "nbformat": 4,
 "nbformat_minor": 2
}
